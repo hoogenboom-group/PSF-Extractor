{
 "cells": [
  {
   "cell_type": "markdown",
   "id": "489293c0",
   "metadata": {},
   "source": [
    "# Astigmatic PSF analysis\n",
    "---\n",
    "### Overview\n",
    "1. Read PSF stack\n",
    "2. Determine angle of astigmatism\n",
    "3. Measure X and Y widths of PSF as function of depth and fit"
   ]
  },
  {
   "cell_type": "markdown",
   "id": "9b330298",
   "metadata": {},
   "source": [
    "#### Libraries"
   ]
  },
  {
   "cell_type": "code",
   "execution_count": 3,
   "id": "80cf929c",
   "metadata": {},
   "outputs": [],
   "source": [
    "from tqdm.notebook import tqdm\n",
    "import numpy as np\n",
    "import psf_extractor as psfe"
   ]
  },
  {
   "cell_type": "markdown",
   "id": "ec2871cc",
   "metadata": {},
   "source": [
    "## Read PSF stack and metadata"
   ]
  },
  {
   "cell_type": "code",
   "execution_count": null,
   "id": "0aba7908",
   "metadata": {},
   "outputs": [],
   "source": []
  },
  {
   "cell_type": "code",
   "execution_count": 62,
   "id": "0cb50891",
   "metadata": {},
   "outputs": [
    {
     "data": {
      "application/vnd.jupyter.widget-view+json": {
       "model_id": "a20e96d0bab24f07bc6a36013d8e6d46",
       "version_major": 2,
       "version_minor": 0
      },
      "text/plain": [
       "  0%|          | 0/80 [00:00<?, ?it/s]"
      ]
     },
     "metadata": {},
     "output_type": "display_data"
    }
   ],
   "source": [
    "# directory of files used as input in PSF extractor\n",
    "file_pattern = '../data/sample_zstack_astigmatism/'\n",
    "\n",
    "#read PSF stack\n",
    "stack = psfe.load_stack(file_pattern)\n",
    "#read parameters\n",
    "psx,psy,psz = psfe.read_parameters(file_pattern)"
   ]
  },
  {
   "cell_type": "code",
   "execution_count": 63,
   "id": "7ae8cf43",
   "metadata": {},
   "outputs": [
    {
     "name": "stdout",
     "output_type": "stream",
     "text": [
      "12.7 12.7 20.0\n"
     ]
    }
   ],
   "source": [
    "print(psx,psy,psz)"
   ]
  },
  {
   "cell_type": "code",
   "execution_count": null,
   "id": "95ab55ab",
   "metadata": {},
   "outputs": [],
   "source": []
  }
 ],
 "metadata": {
  "kernelspec": {
   "display_name": "Python 3 (ipykernel)",
   "language": "python",
   "name": "python3"
  },
  "language_info": {
   "codemirror_mode": {
    "name": "ipython",
    "version": 3
   },
   "file_extension": ".py",
   "mimetype": "text/x-python",
   "name": "python",
   "nbconvert_exporter": "python",
   "pygments_lexer": "ipython3",
   "version": "3.9.7"
  }
 },
 "nbformat": 4,
 "nbformat_minor": 5
}
