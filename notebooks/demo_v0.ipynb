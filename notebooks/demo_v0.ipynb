{
 "cells": [
  {
   "cell_type": "markdown",
   "id": "f5b1119c-9208-41ff-b809-0a0892280152",
   "metadata": {},
   "source": [
    "# PSF Extractor\n",
    "---\n",
    "\n",
    "#### Overview\n",
    "PSF extractor walkthrough"
   ]
  },
  {
   "cell_type": "markdown",
   "id": "cf114da6-5373-4b59-b2bf-76532e5486b9",
   "metadata": {},
   "source": [
    "#### Libraries"
   ]
  },
  {
   "cell_type": "code",
   "execution_count": 1,
   "id": "dcc58035-2eb5-4d77-8c08-e3111dac7d68",
   "metadata": {},
   "outputs": [],
   "source": [
    "import numpy as np"
   ]
  },
  {
   "cell_type": "code",
   "execution_count": null,
   "id": "a8bc0633-bd0c-4a77-bdce-2b0207c68d90",
   "metadata": {},
   "outputs": [],
   "source": []
  }
 ],
 "metadata": {
  "kernelspec": {
   "display_name": "Python 3",
   "language": "python",
   "name": "python3"
  },
  "language_info": {
   "codemirror_mode": {
    "name": "ipython",
    "version": 3
   },
   "file_extension": ".py",
   "mimetype": "text/x-python",
   "name": "python",
   "nbconvert_exporter": "python",
   "pygments_lexer": "ipython3",
   "version": "3.9.5"
  }
 },
 "nbformat": 4,
 "nbformat_minor": 5
}
