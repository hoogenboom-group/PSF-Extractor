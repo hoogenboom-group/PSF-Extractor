{
 "cells": [
  {
   "cell_type": "markdown",
   "id": "13aa3f37-1587-4c1c-9921-3a9e117df317",
   "metadata": {},
   "source": [
    "# Optimizing the check for overlapping features\n",
    "---\n",
    "\n",
    "### Overview\n",
    "Currently checking for overlap by checking if each feature's bounding box overlaps with every other feature's bounding box. Although we are only checking unique combinations/pairs of bounding boxes, the algorithm is still $O(n^2)$ given that the number of combinations scales with\n",
    "\n",
    "\\begin{equation}\n",
    "{}_n C_2 = \\frac{n!}{2(n-2)!}\n",
    "\\end{equation}\n",
    "\n",
    "Here we'll look at implementing a more efficient method, cell listing [1] ($O(n)$). Basically involves subdividing the spatial domain into cells (wider than the threshold distance) and then checking for overlap among only the features in each cell (and the neighboring cells).\n",
    "\n",
    "[1] https://en.wikipedia.org/wiki/Cell_lists"
   ]
  },
  {
   "cell_type": "code",
   "execution_count": 1,
   "id": "7b88e4b3-cb80-4d02-a8f0-b291d8e73b8a",
   "metadata": {},
   "outputs": [],
   "source": [
    "from itertools import combinations\n",
    "\n",
    "import pandas as pd\n",
    "import numpy as np\n",
    "import matplotlib.pyplot as plt\n",
    "from matplotlib.patches import Rectangle"
   ]
  },
  {
   "cell_type": "markdown",
   "id": "5ab2e5bd-f421-4b43-bdf2-bfbcec31e08a",
   "metadata": {},
   "source": [
    "### Check if two boxes overlap\n",
    "(This part is fine I think)"
   ]
  },
  {
   "cell_type": "code",
   "execution_count": 2,
   "id": "32fcc9a9-4032-4726-bbe0-251d4a5e3742",
   "metadata": {},
   "outputs": [],
   "source": [
    "def bboxes_overlap(bbox_1, bbox_2):\n",
    "    \"\"\"Determines if two bounding boxes overlap or coincide\n",
    "\n",
    "    Parameters\n",
    "    ----------\n",
    "    bbox_1 : array-like (or 4-tuple)\n",
    "        1st bounding box\n",
    "        convention: (x_min, y_min, x_max, y_max)\n",
    "    bbox_2 : array-like (or 4-tuple)\n",
    "        2nd bounding box\n",
    "        convention: (x_min, y_min, x_max, y_max)\n",
    "\n",
    "    Returns\n",
    "    -------\n",
    "    overlap : bool\n",
    "        True if bounding boxes overlap / coincide\n",
    "        False otherwise\n",
    "\n",
    "    References\n",
    "    ----------\n",
    "    [1] https://stackoverflow.com/a/20925869/5285918\n",
    "    \"\"\"\n",
    "    # 2 tiles overlap iff their projections onto both x and y axis overlap\n",
    "    # Overlap in 1D iff box1_max > box2_min AND box1_min < box2_max\n",
    "    overlap = ((bbox_1[2] >= bbox_2[0]) & (bbox_1[0] <= bbox_2[2])) & \\\n",
    "              ((bbox_1[3] >= bbox_2[1]) & (bbox_1[1] <= bbox_2[3]))\n",
    "    return overlap"
   ]
  },
  {
   "cell_type": "markdown",
   "id": "9f59f892-9d9e-450c-a4ef-caa9f75abe2e",
   "metadata": {},
   "source": [
    "### Create features and boxes"
   ]
  },
  {
   "cell_type": "code",
   "execution_count": 3,
   "id": "484db33b-158e-4427-9167-da4191926e44",
   "metadata": {},
   "outputs": [
    {
     "data": {
      "text/html": [
       "<div>\n",
       "<style scoped>\n",
       "    .dataframe tbody tr th:only-of-type {\n",
       "        vertical-align: middle;\n",
       "    }\n",
       "\n",
       "    .dataframe tbody tr th {\n",
       "        vertical-align: top;\n",
       "    }\n",
       "\n",
       "    .dataframe thead th {\n",
       "        text-align: right;\n",
       "    }\n",
       "</style>\n",
       "<table border=\"1\" class=\"dataframe\">\n",
       "  <thead>\n",
       "    <tr style=\"text-align: right;\">\n",
       "      <th></th>\n",
       "      <th>x</th>\n",
       "      <th>y</th>\n",
       "      <th>x_min</th>\n",
       "      <th>y_min</th>\n",
       "      <th>x_max</th>\n",
       "      <th>y_max</th>\n",
       "    </tr>\n",
       "  </thead>\n",
       "  <tbody>\n",
       "    <tr>\n",
       "      <th>0</th>\n",
       "      <td>84.881770</td>\n",
       "      <td>38.477312</td>\n",
       "      <td>79.881770</td>\n",
       "      <td>33.477312</td>\n",
       "      <td>89.881770</td>\n",
       "      <td>43.477312</td>\n",
       "    </tr>\n",
       "    <tr>\n",
       "      <th>1</th>\n",
       "      <td>17.889592</td>\n",
       "      <td>85.970785</td>\n",
       "      <td>12.889592</td>\n",
       "      <td>80.970785</td>\n",
       "      <td>22.889592</td>\n",
       "      <td>90.970785</td>\n",
       "    </tr>\n",
       "    <tr>\n",
       "      <th>2</th>\n",
       "      <td>5.436321</td>\n",
       "      <td>94.419964</td>\n",
       "      <td>0.436321</td>\n",
       "      <td>89.419964</td>\n",
       "      <td>10.436321</td>\n",
       "      <td>99.419964</td>\n",
       "    </tr>\n",
       "    <tr>\n",
       "      <th>3</th>\n",
       "      <td>36.153845</td>\n",
       "      <td>70.282489</td>\n",
       "      <td>31.153845</td>\n",
       "      <td>65.282489</td>\n",
       "      <td>41.153845</td>\n",
       "      <td>75.282489</td>\n",
       "    </tr>\n",
       "    <tr>\n",
       "      <th>4</th>\n",
       "      <td>27.540093</td>\n",
       "      <td>63.363410</td>\n",
       "      <td>22.540093</td>\n",
       "      <td>58.363410</td>\n",
       "      <td>32.540093</td>\n",
       "      <td>68.363410</td>\n",
       "    </tr>\n",
       "  </tbody>\n",
       "</table>\n",
       "</div>"
      ],
      "text/plain": [
       "           x          y      x_min      y_min      x_max      y_max\n",
       "0  84.881770  38.477312  79.881770  33.477312  89.881770  43.477312\n",
       "1  17.889592  85.970785  12.889592  80.970785  22.889592  90.970785\n",
       "2   5.436321  94.419964   0.436321  89.419964  10.436321  99.419964\n",
       "3  36.153845  70.282489  31.153845  65.282489  41.153845  75.282489\n",
       "4  27.540093  63.363410  22.540093  58.363410  32.540093  68.363410"
      ]
     },
     "execution_count": 3,
     "metadata": {},
     "output_type": "execute_result"
    }
   ],
   "source": [
    "# Set plane dimensions\n",
    "Nx, Ny = (100, 100)\n",
    "\n",
    "# Set bbox size\n",
    "wx = 10\n",
    "wy = 10\n",
    "\n",
    "# Create a random distribution of features\n",
    "N = 20\n",
    "X = np.random.RandomState(15).uniform(0, Nx, size=N)\n",
    "Y = np.random.RandomState(38).uniform(0, Ny, size=N)\n",
    "\n",
    "# Create DataFrame of features and their bboxes\n",
    "features = pd.DataFrame({'x': X, 'y': Y})\n",
    "features['x_min'] = X - wx/2\n",
    "features['y_min'] = Y - wy/2\n",
    "features['x_max'] = X + wx/2\n",
    "features['y_max'] = Y + wy/2\n",
    "\n",
    "# Sample features\n",
    "features.head()"
   ]
  },
  {
   "cell_type": "code",
   "execution_count": 4,
   "id": "bf789b8b-4734-46b1-b97d-68e226e68e4a",
   "metadata": {},
   "outputs": [
    {
     "data": {
      "image/png": "[encoded data removed]",
      "text/plain": [
       "<Figure size 360x360 with 1 Axes>"
      ]
     },
     "metadata": {
      "needs_background": "light"
     },
     "output_type": "display_data"
    }
   ],
   "source": [
    "# Make figure\n",
    "fig, ax = plt.subplots(figsize=(5, 5))\n",
    "ax.plot(features['x'], features['y'], 'o', color='C1', ms=3, lw=0)\n",
    "for i, row in features.iterrows():\n",
    "    p = Rectangle((features.loc[i, 'x_min'], features.loc[i, 'y_min']),\n",
    "                  wx, wy, facecolor='none', lw=1, edgecolor='C0')\n",
    "    ax.add_patch(p)\n",
    "    ax.text(features.loc[i, 'x_min'], features.loc[i, 'y_max'],\n",
    "            f'{i}', ha='left', va='top')\n",
    "ax.grid(ls=':')"
   ]
  },
  {
   "cell_type": "markdown",
   "id": "fc199251-9f48-49c3-9c73-dd5ecde72d54",
   "metadata": {},
   "source": [
    "### Cell listing method"
   ]
  },
  {
   "cell_type": "code",
   "execution_count": 5,
   "id": "f401584e-9b1c-459d-a8a4-b60ae8043997",
   "metadata": {},
   "outputs": [
    {
     "data": {
      "text/plain": [
       "array([ 1.,  3.,  4.,  7., 11., 12., 14., 15., 16., 19.])"
      ]
     },
     "execution_count": 5,
     "metadata": {},
     "output_type": "execute_result"
    }
   ],
   "source": [
    "# Keep track of overlapping features\n",
    "overlapping = []\n",
    "# Define cell parameters\n",
    "cw = 2*wx  # cell width\n",
    "\n",
    "# Loop through a grid in x, y to create cells\n",
    "for x in np.arange(0, Nx, cw):\n",
    "    for y in np.arange(0, Ny, cw):\n",
    "        # Create cell\n",
    "        cell = [x-cw, y-cw, x+2*cw, y+2*cw]\n",
    "        # Get features in cell\n",
    "        in_cell = features[((cell[0] < X) & (X < cell[2]) &\\\n",
    "                            (cell[1] < Y) & (Y < cell[3]))]\n",
    "        # Combinations\n",
    "        pairs = list(combinations(in_cell.reset_index().values, 2))\n",
    "\n",
    "        # Loop through pairs of bboxes\n",
    "        for (bbox_i, bbox_j) in pairs:\n",
    "            if bboxes_overlap(bbox_i[-4:], bbox_j[-4:]):\n",
    "                overlapping.append(bbox_i[0])\n",
    "                overlapping.append(bbox_j[0])\n",
    "\n",
    "overlapping = np.unique(overlapping)\n",
    "overlapping"
   ]
  },
  {
   "cell_type": "markdown",
   "id": "c721a668-f3be-40a8-9544-74e499a0634d",
   "metadata": {},
   "source": [
    "### Plot overlapping features"
   ]
  },
  {
   "cell_type": "code",
   "execution_count": 6,
   "id": "dfb2962c-3db4-4e53-86d1-dce6bd1c753b",
   "metadata": {},
   "outputs": [],
   "source": [
    "def plot_overlapping_features(features, overlapping, plot_feature_index=False):\n",
    "    \"\"\"Plot features showing where bboxes overlap\"\"\"\n",
    "    # Make bboxes\n",
    "    features['x_min'] = features['x'] - wx/2\n",
    "    features['y_min'] = features['y'] - wy/2\n",
    "    features['x_max'] = features['x'] + wx/2\n",
    "    features['y_max'] = features['y'] + wy/2\n",
    "\n",
    "    # Make figure\n",
    "    fig, ax = plt.subplots(figsize=(5, 5))\n",
    "    ax.plot(features['x'], features['y'], 'o', color='C1', ms=3, lw=0)\n",
    "    for i, row in features.iterrows():\n",
    "        if i not in overlapping:\n",
    "            p = Rectangle((features.loc[i, 'x_min'], features.loc[i, 'y_min']),\n",
    "                          wx, wy, facecolor='none', lw=1, edgecolor='C0')\n",
    "        else:\n",
    "            p = Rectangle((features.loc[i, 'x_min'], features.loc[i, 'y_min']),\n",
    "                          wx, wy, facecolor='none', lw=1, edgecolor='C3')\n",
    "        ax.add_patch(p)\n",
    "        if plot_feature_index:\n",
    "            ax.text(features.loc[i, 'x_min'], features.loc[i, 'y_max'],\n",
    "                    f'{i}', ha='left', va='top')\n",
    "    ax.grid(ls=':')"
   ]
  },
  {
   "cell_type": "code",
   "execution_count": 7,
   "id": "220f3956-60b4-45e5-a487-16dcc3cfedeb",
   "metadata": {},
   "outputs": [
    {
     "data": {
      "image/png": "[encoded data removed]",
      "text/plain": [
       "<Figure size 360x360 with 1 Axes>"
      ]
     },
     "metadata": {
      "needs_background": "light"
     },
     "output_type": "display_data"
    }
   ],
   "source": [
    "plot_overlapping_features(features, overlapping, plot_feature_index=True)"
   ]
  },
  {
   "cell_type": "markdown",
   "id": "1a1daf27-ed0c-4770-9587-faa72d5bb798",
   "metadata": {},
   "source": [
    "## Timing comparison\n",
    "---"
   ]
  },
  {
   "cell_type": "code",
   "execution_count": 8,
   "id": "3e6edf86-619f-4415-a784-b22ad743008e",
   "metadata": {},
   "outputs": [],
   "source": [
    "from tqdm.notebook import tqdm"
   ]
  },
  {
   "cell_type": "code",
   "execution_count": 9,
   "id": "80d18219-996d-49b7-8293-bbfdea74468c",
   "metadata": {},
   "outputs": [],
   "source": [
    "def remove_overlapping_features_bruteforce(features, wx, wy, return_indices=False):\n",
    "    \"\"\"Remove overlapping features from feature set.\n",
    "\n",
    "    Parameters\n",
    "    ----------\n",
    "    features : `pd.DataFrame`\n",
    "        Feature set returned from `trackpy.locate`\n",
    "    wx, wy : scalar\n",
    "        Dimensions of bounding boxes\n",
    "    return_indices : bool\n",
    "        Whether to return the indices of the overlapping features\n",
    "\n",
    "    Returns\n",
    "    -------\n",
    "    features : `pd.DataFrame`\n",
    "        Feature set with overlapping features removed\n",
    "    \"\"\"\n",
    "    # TODO: figure out why this is so much slower than\n",
    "    # previous blacklist function (which also checks\n",
    "    # against the image borders) \n",
    "\n",
    "    # Create a bounding box for each bead\n",
    "    df_bboxes = features.loc[:, ['x', 'y']]\n",
    "    df_bboxes['x_min'] = features['x'] - wx/2\n",
    "    df_bboxes['y_min'] = features['y'] - wy/2\n",
    "    df_bboxes['x_max'] = features['x'] + wx/2\n",
    "    df_bboxes['y_max'] = features['y'] + wy/2\n",
    "\n",
    "    # Collect overlapping features\n",
    "    overlapping_features = []\n",
    "    # Iterate through every (unique) pair of bounding boxes\n",
    "    ij = list(combinations(df_bboxes.index, 2))\n",
    "    for i, j in tqdm(ij, total=len(ij)):\n",
    "\n",
    "        # Create bounding boxes for each pair of features\n",
    "        bbox_i = df_bboxes.loc[i, ['x_min', 'y_min', 'x_max', 'y_max']].values\n",
    "        bbox_j = df_bboxes.loc[j, ['x_min', 'y_min', 'x_max', 'y_max']].values\n",
    "\n",
    "        # Check for overlap\n",
    "        if bboxes_overlap(bbox_i, bbox_j):\n",
    "            overlapping_features.append(i)\n",
    "            overlapping_features.append(j)\n",
    "\n",
    "    overlapping = np.unique(overlapping_features)\n",
    "    features = features.drop(index=overlapping)\n",
    "    if return_indices:\n",
    "        return features, overlapping\n",
    "    return features"
   ]
  },
  {
   "cell_type": "code",
   "execution_count": 10,
   "id": "9f7d0120-c2ba-46c2-9cfb-d63cebe5bbf8",
   "metadata": {},
   "outputs": [],
   "source": [
    "def remove_overlapping_features_celllisting(features, wx, wy, return_indices=False):\n",
    "    \"\"\"Remove overlapping features from feature set.\n",
    "\n",
    "    Parameters\n",
    "    ----------\n",
    "    features : `pd.DataFrame`\n",
    "        Feature set returned from `trackpy.locate`\n",
    "    wx, wy : scalar\n",
    "        Dimensions of bounding boxes\n",
    "    return_indices : bool\n",
    "        Whether to return the indices of the overlapping features\n",
    "\n",
    "    Returns\n",
    "    -------\n",
    "    features : `pd.DataFrame`\n",
    "        Feature set with overlapping features removed\n",
    "    \"\"\"\n",
    "    # Create a bounding box for each bead\n",
    "    df_bboxes = features.loc[:, ['x', 'y']]\n",
    "    df_bboxes['x_min'] = features['x'] - wx/2\n",
    "    df_bboxes['y_min'] = features['y'] - wy/2\n",
    "    df_bboxes['x_max'] = features['x'] + wx/2\n",
    "    df_bboxes['y_max'] = features['y'] + wy/2\n",
    "\n",
    "    # Keep track of overlapping features\n",
    "    overlapping = []\n",
    "    # Define cell parameters\n",
    "    cw = 2*wx  # cell width\n",
    "\n",
    "    # Loop through a grid in x, y to create cells\n",
    "    Nx = features['x'].max() + cw\n",
    "    Ny = features['y'].max() + cw\n",
    "    for x in tqdm(np.arange(0, Nx, cw)):\n",
    "        for y in np.arange(0, Ny, cw):\n",
    "            # Create cell\n",
    "            cell = [x-cw, y-cw, x+2*cw, y+2*cw]\n",
    "            # Get features in cell\n",
    "            in_cell = features[((cell[0] < X) & (X < cell[2]) &\\\n",
    "                                (cell[1] < Y) & (Y < cell[3]))]\n",
    "            # Combinations\n",
    "            pairs = list(combinations(in_cell.reset_index().values, 2))\n",
    "\n",
    "            # Loop through pairs of bboxes\n",
    "            for (bbox_i, bbox_j) in pairs:\n",
    "                if bboxes_overlap(bbox_i[-4:], bbox_j[-4:]):\n",
    "                    overlapping.append(bbox_i[0])\n",
    "                    overlapping.append(bbox_j[0])\n",
    "\n",
    "    overlapping = np.unique(overlapping)\n",
    "    features = features.drop(index=overlapping)\n",
    "    if return_indices:\n",
    "        return features, overlapping\n",
    "    return features"
   ]
  },
  {
   "cell_type": "markdown",
   "id": "a94dcb5a-d838-49de-bb4c-113b6b9e9d74",
   "metadata": {},
   "source": [
    "### Bigger feature set"
   ]
  },
  {
   "cell_type": "code",
   "execution_count": 16,
   "id": "dcd2c65d-f055-4313-86d0-c8b0a212c1ab",
   "metadata": {},
   "outputs": [],
   "source": [
    "# Set plane dimensions\n",
    "Nx, Ny = (1000, 1000)\n",
    "\n",
    "# Create a random distribution of features\n",
    "N = 200\n",
    "X = np.random.RandomState(15).uniform(0, Nx, size=N)\n",
    "Y = np.random.RandomState(38).uniform(0, Ny, size=N)\n",
    "features = pd.DataFrame({'x': X, 'y': Y})\n",
    "\n",
    "# Create a bounding box for each bead\n",
    "wx = 40\n",
    "wy = 40"
   ]
  },
  {
   "cell_type": "markdown",
   "id": "0e4a003b-aed0-45d1-8374-8692679766a5",
   "metadata": {},
   "source": [
    "### Old method (brute-force)"
   ]
  },
  {
   "cell_type": "code",
   "execution_count": 17,
   "id": "f0725a02-5e99-4623-8fd4-c570eb7853b6",
   "metadata": {},
   "outputs": [
    {
     "data": {
      "application/vnd.jupyter.widget-view+json": {
       "model_id": "ab8b5dded56742e7bc21e51babd4da5e",
       "version_major": 2,
       "version_minor": 0
      },
      "text/plain": [
       "  0%|          | 0/19900 [00:00<?, ?it/s]"
      ]
     },
     "metadata": {},
     "output_type": "display_data"
    },
    {
     "name": "stdout",
     "output_type": "stream",
     "text": [
      "Overlapping features... 128 / 200\n"
     ]
    }
   ],
   "source": [
    "_, overlapping = remove_overlapping_features_bruteforce(features, wx=wx, wy=wy, return_indices=True)\n",
    "\n",
    "out = f\"Overlapping features... {len(overlapping)} / {N}\"\n",
    "print(out)"
   ]
  },
  {
   "cell_type": "code",
   "execution_count": 18,
   "id": "8454e57a-955d-4cd0-8ed4-23149ee35c5c",
   "metadata": {},
   "outputs": [
    {
     "data": {
      "image/png": "[encoded data removed]",
      "text/plain": [
       "<Figure size 360x360 with 1 Axes>"
      ]
     },
     "metadata": {
      "needs_background": "light"
     },
     "output_type": "display_data"
    }
   ],
   "source": [
    "plot_overlapping_features(features, overlapping)"
   ]
  },
  {
   "cell_type": "markdown",
   "id": "b507602d-4c8e-4189-8f10-b65c8627ad08",
   "metadata": {},
   "source": [
    "### New method (cell listing)"
   ]
  },
  {
   "cell_type": "code",
   "execution_count": 19,
   "id": "72ad9a65-fd40-4eaf-aa79-16dde8bc9636",
   "metadata": {},
   "outputs": [
    {
     "data": {
      "application/vnd.jupyter.widget-view+json": {
       "model_id": "ca833a3f47af47818deb249904e95bfc",
       "version_major": 2,
       "version_minor": 0
      },
      "text/plain": [
       "  0%|          | 0/14 [00:00<?, ?it/s]"
      ]
     },
     "metadata": {},
     "output_type": "display_data"
    },
    {
     "name": "stdout",
     "output_type": "stream",
     "text": [
      "Overlapping features... 128 / 200\n"
     ]
    }
   ],
   "source": [
    "_, overlapping = remove_overlapping_features_celllisting(features, wx=wx, wy=wy, return_indices=True)\n",
    "\n",
    "out = f\"Overlapping features... {len(overlapping)} / {N}\"\n",
    "print(out)"
   ]
  },
  {
   "cell_type": "code",
   "execution_count": 20,
   "id": "f3df2cbc-8a6a-4d43-b895-422427c93312",
   "metadata": {},
   "outputs": [
    {
     "data": {
      "image/png": "[encoded data removed]",
      "text/plain": [
       "<Figure size 360x360 with 1 Axes>"
      ]
     },
     "metadata": {
      "needs_background": "light"
     },
     "output_type": "display_data"
    }
   ],
   "source": [
    "plot_overlapping_features(features, overlapping)"
   ]
  }
 ],
 "metadata": {
  "kernelspec": {
   "display_name": "Python 3",
   "language": "python",
   "name": "python3"
  },
  "language_info": {
   "codemirror_mode": {
    "name": "ipython",
    "version": 3
   },
   "file_extension": ".py",
   "mimetype": "text/x-python",
   "name": "python",
   "nbconvert_exporter": "python",
   "pygments_lexer": "ipython3",
   "version": "3.9.5"
  }
 },
 "nbformat": 4,
 "nbformat_minor": 5
}
